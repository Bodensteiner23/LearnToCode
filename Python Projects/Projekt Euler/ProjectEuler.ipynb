{
 "cells": [
  {
   "cell_type": "markdown",
   "metadata": {},
   "source": [
    "## Problem 10\n",
    "\n",
    "Summation of Primes"
   ]
  },
  {
   "cell_type": "code",
   "execution_count": 1,
   "metadata": {},
   "outputs": [
    {
     "name": "stdout",
     "output_type": "stream",
     "text": [
      "142913828922\n"
     ]
    }
   ],
   "source": [
    "import math\n",
    "\n",
    "numberToCheck = 2000000\n",
    "primeSum = 0\n",
    "numberList = []\n",
    "primesFound = False\n",
    "\n",
    "numberList = [True] * (numberToCheck + 1)\n",
    "\n",
    "for i in range(2, int(math.sqrt(numberToCheck) + 1)):\n",
    "    if numberList[i] == True:\n",
    "        for j in range(i**2, numberToCheck + 1, i):\n",
    "            numberList[j] = False\n",
    "\n",
    "for i in range(2, numberToCheck + 1):\n",
    "    if numberList[i]:\n",
    "        primeSum += i\n",
    "\n",
    "print(primeSum)"
   ]
  },
  {
   "cell_type": "markdown",
   "metadata": {},
   "source": [
    "## Problem 11\n",
    "\n",
    "Largest Product in a Grid"
   ]
  },
  {
   "cell_type": "code",
   "execution_count": null,
   "metadata": {},
   "outputs": [],
   "source": []
  }
 ],
 "metadata": {
  "kernelspec": {
   "display_name": "Python 3",
   "language": "python",
   "name": "python3"
  },
  "language_info": {
   "codemirror_mode": {
    "name": "ipython",
    "version": 3
   },
   "file_extension": ".py",
   "mimetype": "text/x-python",
   "name": "python",
   "nbconvert_exporter": "python",
   "pygments_lexer": "ipython3",
   "version": "3.12.6"
  }
 },
 "nbformat": 4,
 "nbformat_minor": 2
}
