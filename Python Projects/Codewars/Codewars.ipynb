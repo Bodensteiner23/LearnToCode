{
 "cells": [
  {
   "cell_type": "markdown",
   "metadata": {},
   "source": [
    "### Complementary DNA"
   ]
  },
  {
   "cell_type": "code",
   "execution_count": null,
   "metadata": {},
   "outputs": [],
   "source": [
    "def DNA_strand(dna):\n",
    "    new_dna = \"\"\n",
    "    for i in range(0, len(dna)):\n",
    "        if dna[i] == \"A\":\n",
    "            new_dna += \"T\"\n",
    "        elif dna[i] == \"T\":\n",
    "            new_dna += \"A\"\n",
    "        elif dna[i] == \"C\":\n",
    "            new_dna += \"G\"\n",
    "        elif dna[i] == \"G\":\n",
    "            new_dna += \"C\"\n",
    "        else: \n",
    "            new_dna += dna[i]\n",
    "    return new_dna\n",
    "\n",
    "test_dna = \"ATTGC\"\n",
    "\n",
    "print(DNA_strand(test_dna))"
   ]
  },
  {
   "cell_type": "markdown",
   "metadata": {},
   "source": [
    "### Persistent Bugger"
   ]
  },
  {
   "cell_type": "code",
   "execution_count": 12,
   "metadata": {},
   "outputs": [
    {
     "data": {
      "text/plain": [
       "'4'"
      ]
     },
     "execution_count": 12,
     "metadata": {},
     "output_type": "execute_result"
    }
   ],
   "source": [
    "def persistence(n):\n",
    "    number = str(n)\n",
    "    result = 1\n",
    "    counter = 0\n",
    "    if len(number) == 1:\n",
    "        return 0\n",
    "    while len(number) > 1:\n",
    "        for i in range(0, len(number)):\n",
    "            result *= int(number[i])\n",
    "        counter += 1\n",
    "        number = str(result)\n",
    "        result = 1\n",
    "\n",
    "    return counter\n",
    "\n",
    "number_to_test = 39\n",
    "persistence(number_to_test)"
   ]
  },
  {
   "cell_type": "markdown",
   "metadata": {},
   "source": [
    "### Playing with digits"
   ]
  },
  {
   "cell_type": "code",
   "execution_count": 5,
   "metadata": {},
   "outputs": [
    {
     "data": {
      "text/plain": [
       "2.0"
      ]
     },
     "execution_count": 5,
     "metadata": {},
     "output_type": "execute_result"
    }
   ],
   "source": [
    "def dig_pow(n, p):\n",
    "    num = str(n)\n",
    "    result_sum = 0\n",
    "    for i in range(0, len(num)):\n",
    "        result_sum += (int(num[i])**p)\n",
    "        p += 1\n",
    "    divider = result_sum / n\n",
    "    if divider % 1 == 0:\n",
    "        return divider\n",
    "    return -1\n",
    "\n",
    "dig_pow(695, 2)\n",
    "\n"
   ]
  },
  {
   "cell_type": "markdown",
   "metadata": {},
   "source": [
    "### Your order, please\n",
    "# Not finished!!!"
   ]
  },
  {
   "cell_type": "code",
   "execution_count": null,
   "metadata": {},
   "outputs": [],
   "source": [
    "def order(sentence):\n",
    "    word = \"\"\n",
    "    word_array = []\n",
    "    for char in sentence:\n",
    "        if char == \" \":\n",
    "            word_array.append(word)\n",
    "            word = \"\"\n",
    "        else: \n",
    "            word += char\n",
    "    word_array.append(word)\n",
    "\n",
    "    for word in word_array:\n",
    "        if word.isnumeric():\n",
    "            print(word)\n",
    "\n",
    "\n",
    "    print(word_array)\n",
    "\n",
    "order(\"Hall1 di3 te2st\")"
   ]
  },
  {
   "cell_type": "markdown",
   "metadata": {},
   "source": [
    "### Shortes Word"
   ]
  },
  {
   "metadata": {
    "ExecuteTime": {
     "end_time": "2025-02-16T20:21:19.404470Z",
     "start_time": "2025-02-16T20:21:19.400921Z"
    }
   },
   "cell_type": "code",
   "outputs": [
    {
     "data": {
      "text/plain": [
       "3"
      ]
     },
     "execution_count": 1,
     "metadata": {},
     "output_type": "execute_result"
    }
   ],
   "execution_count": 1,
   "source": [
    "def find_short(s):\n",
    "    shortest_word = 0\n",
    "    position = 0\n",
    "    for words in s.split():\n",
    "        word_length = len(words)\n",
    "        if position == 0:\n",
    "            shortest_word = word_length\n",
    "        if word_length < shortest_word:\n",
    "            shortest_word = word_length\n",
    "        position += 1\n",
    "    return shortest_word\n",
    "\n",
    "    # return l # l: shortest word length\n",
    "\n",
    "find_short(\"turns out random test cases are easier than writing out basic ones\")"
   ]
  },
  {
   "metadata": {},
   "cell_type": "markdown",
   "source": "# Create Phone Number"
  },
  {
   "metadata": {
    "ExecuteTime": {
     "end_time": "2025-02-17T08:02:24.265857Z",
     "start_time": "2025-02-17T08:02:24.262974Z"
    }
   },
   "cell_type": "code",
   "source": [
    "def create_phone_number(n):\n",
    "    number = \"\"\n",
    "    number += \"(\"\n",
    "\n",
    "    for i in range(0, len(n)):\n",
    "        if i == 3 :\n",
    "             number += \") \"\n",
    "        if i == 6:\n",
    "            number += \"-\"\n",
    "        number += str(n[i])\n",
    "    number += \"\"\n",
    "    # for i in range(0,3):\n",
    "    #     number += str(n[i])\n",
    "    # number += \") \"\n",
    "    # for i in range(3, 6):\n",
    "    #     number += str(n[i])\n",
    "    # number += \"-\"\n",
    "    # for i in range(6, 10):\n",
    "    #     number += str(n[i])\n",
    "    # number += \"\"\n",
    "\n",
    "    print(number)\n",
    "liste = [1, 2, 3, 4, 5, 6, 7, 8, 9, 0]\n",
    "create_phone_number(liste)"
   ],
   "outputs": [
    {
     "name": "stdout",
     "output_type": "stream",
     "text": [
      "(123) 456-7890\n"
     ]
    }
   ],
   "execution_count": 15
  },
  {
   "metadata": {},
   "cell_type": "code",
   "outputs": [],
   "execution_count": null,
   "source": ""
  }
 ],
 "metadata": {
  "kernelspec": {
   "display_name": "Python 3",
   "language": "python",
   "name": "python3"
  },
  "language_info": {
   "codemirror_mode": {
    "name": "ipython",
    "version": 3
   },
   "file_extension": ".py",
   "mimetype": "text/x-python",
   "name": "python",
   "nbconvert_exporter": "python",
   "pygments_lexer": "ipython3",
   "version": "3.12.6"
  }
 },
 "nbformat": 4,
 "nbformat_minor": 2
}
