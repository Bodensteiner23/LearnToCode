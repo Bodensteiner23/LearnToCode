{
 "cells": [
  {
   "cell_type": "markdown",
   "metadata": {},
   "source": [
    "### Complementary DNA"
   ]
  },
  {
   "cell_type": "code",
   "execution_count": null,
   "metadata": {},
   "outputs": [],
   "source": [
    "def DNA_strand(dna):\n",
    "    new_dna = \"\"\n",
    "    for i in range(0, len(dna)):\n",
    "        if dna[i] == \"A\":\n",
    "            new_dna += \"T\"\n",
    "        elif dna[i] == \"T\":\n",
    "            new_dna += \"A\"\n",
    "        elif dna[i] == \"C\":\n",
    "            new_dna += \"G\"\n",
    "        elif dna[i] == \"G\":\n",
    "            new_dna += \"C\"\n",
    "        else: \n",
    "            new_dna += dna[i]\n",
    "    return new_dna\n",
    "\n",
    "test_dna = \"ATTGC\"\n",
    "\n",
    "print(DNA_strand(test_dna))"
   ]
  },
  {
   "cell_type": "markdown",
   "metadata": {},
   "source": [
    "### Persistent Bugger"
   ]
  },
  {
   "cell_type": "code",
   "execution_count": 12,
   "metadata": {},
   "outputs": [
    {
     "data": {
      "text/plain": [
       "'4'"
      ]
     },
     "execution_count": 12,
     "metadata": {},
     "output_type": "execute_result"
    }
   ],
   "source": [
    "def persistence(n):\n",
    "    number = str(n)\n",
    "    result = 1\n",
    "    counter = 0\n",
    "    if len(number) == 1:\n",
    "        return 0\n",
    "    while len(number) > 1:\n",
    "        for i in range(0, len(number)):\n",
    "            result *= int(number[i])\n",
    "        counter += 1\n",
    "        number = str(result)\n",
    "        result = 1\n",
    "\n",
    "    return counter\n",
    "\n",
    "number_to_test = 39\n",
    "persistence(number_to_test)"
   ]
  },
  {
   "cell_type": "markdown",
   "metadata": {},
   "source": [
    "### Playing with digits"
   ]
  },
  {
   "cell_type": "code",
   "execution_count": 3,
   "metadata": {},
   "outputs": [
    {
     "ename": "TypeError",
     "evalue": "'int' object is not subscriptable",
     "output_type": "error",
     "traceback": [
      "\u001b[1;31m---------------------------------------------------------------------------\u001b[0m",
      "\u001b[1;31mTypeError\u001b[0m                                 Traceback (most recent call last)",
      "Cell \u001b[1;32mIn[3], line 11\u001b[0m\n\u001b[0;32m      8\u001b[0m         \u001b[38;5;28;01mreturn\u001b[39;00m divider\n\u001b[0;32m      9\u001b[0m     \u001b[38;5;28;01mreturn\u001b[39;00m \u001b[38;5;241m-\u001b[39m\u001b[38;5;241m1\u001b[39m\n\u001b[1;32m---> 11\u001b[0m \u001b[43mdig_pow\u001b[49m\u001b[43m(\u001b[49m\u001b[38;5;241;43m695\u001b[39;49m\u001b[43m,\u001b[49m\u001b[43m \u001b[49m\u001b[38;5;241;43m2\u001b[39;49m\u001b[43m)\u001b[49m\n",
      "Cell \u001b[1;32mIn[3], line 4\u001b[0m, in \u001b[0;36mdig_pow\u001b[1;34m(n, p)\u001b[0m\n\u001b[0;32m      2\u001b[0m result_sum \u001b[38;5;241m=\u001b[39m \u001b[38;5;241m0\u001b[39m\n\u001b[0;32m      3\u001b[0m \u001b[38;5;28;01mfor\u001b[39;00m i \u001b[38;5;129;01min\u001b[39;00m \u001b[38;5;28mstr\u001b[39m(n):\n\u001b[1;32m----> 4\u001b[0m     result_sum \u001b[38;5;241m+\u001b[39m\u001b[38;5;241m=\u001b[39m (\u001b[43mn\u001b[49m\u001b[43m[\u001b[49m\u001b[43mi\u001b[49m\u001b[43m]\u001b[49m)\u001b[38;5;241m*\u001b[39m\u001b[38;5;241m*\u001b[39mp\n\u001b[0;32m      5\u001b[0m     p \u001b[38;5;241m+\u001b[39m\u001b[38;5;241m=\u001b[39m \u001b[38;5;241m1\u001b[39m\n\u001b[0;32m      6\u001b[0m divider \u001b[38;5;241m=\u001b[39m result_sum \u001b[38;5;241m/\u001b[39m n\n",
      "\u001b[1;31mTypeError\u001b[0m: 'int' object is not subscriptable"
     ]
    }
   ],
   "source": [
    "def dig_pow(n, p):\n",
    "    num = str(n)\n",
    "    result_sum = 0\n",
    "    for i in range(0, len(num)):\n",
    "        result_sum += (int(num[i])**p)\n",
    "        p += 1\n",
    "    divider = result_sum / n\n",
    "    if divider % 1 == 0:\n",
    "        return divider\n",
    "    return -1\n",
    "\n",
    "dig_pow(695, 2)\n",
    "\n"
   ]
  }
 ],
 "metadata": {
  "kernelspec": {
   "display_name": "Python 3",
   "language": "python",
   "name": "python3"
  },
  "language_info": {
   "codemirror_mode": {
    "name": "ipython",
    "version": 3
   },
   "file_extension": ".py",
   "mimetype": "text/x-python",
   "name": "python",
   "nbconvert_exporter": "python",
   "pygments_lexer": "ipython3",
   "version": "3.12.6"
  }
 },
 "nbformat": 4,
 "nbformat_minor": 2
}
