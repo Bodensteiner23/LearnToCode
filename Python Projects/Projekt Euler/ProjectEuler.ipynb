{
 "cells": [
  {
   "cell_type": "markdown",
   "metadata": {},
   "source": [
    "## Problem 10\n",
    "The sum of the primes below 10 is \\(2 + 3 + 5 + 7 = 17\\).\n",
    "\n",
    "Find the sum of all the primes below two million.\n"
   ]
  },
  {
   "cell_type": "code",
   "execution_count": 19,
   "metadata": {},
   "outputs": [
    {
     "name": "stdout",
     "output_type": "stream",
     "text": [
      "142913828922\n"
     ]
    }
   ],
   "source": [
    "import math\n",
    "\n",
    "numberToCheck = 2000000\n",
    "primeSum = 0\n",
    "numberList = []\n",
    "primesFound = False\n",
    "\n",
    "numberList = [True] * (numberToCheck + 1)\n",
    "\n",
    "for i in range(2, int(math.sqrt(numberToCheck) + 1)):\n",
    "    if numberList[i] == True:\n",
    "        for j in range(i**2, numberToCheck + 1, i):\n",
    "            numberList[j] = False\n",
    "\n",
    "for i in range(2, numberToCheck + 1):\n",
    "    if numberList[i]:\n",
    "        primeSum += i\n",
    "\n",
    "print(primeSum)"
   ]
  }
 ],
 "metadata": {
  "kernelspec": {
   "display_name": "Python 3",
   "language": "python",
   "name": "python3"
  },
  "language_info": {
   "codemirror_mode": {
    "name": "ipython",
    "version": 3
   },
   "file_extension": ".py",
   "mimetype": "text/x-python",
   "name": "python",
   "nbconvert_exporter": "python",
   "pygments_lexer": "ipython3",
   "version": "3.12.6"
  }
 },
 "nbformat": 4,
 "nbformat_minor": 2
}
