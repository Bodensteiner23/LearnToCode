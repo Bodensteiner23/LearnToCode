{
 "cells": [
  {
   "cell_type": "markdown",
   "metadata": {},
   "source": [
    "### Complementary DNA"
   ]
  },
  {
   "cell_type": "code",
   "execution_count": 3,
   "metadata": {},
   "outputs": [
    {
     "name": "stdout",
     "output_type": "stream",
     "text": [
      "TAACG\n"
     ]
    }
   ],
   "source": [
    "def DNA_strand(dna):\n",
    "    new_dna = \"\"\n",
    "    for i in range(0, len(dna)):\n",
    "        if dna[i] == \"A\":\n",
    "            new_dna += \"T\"\n",
    "        elif dna[i] == \"T\":\n",
    "            new_dna += \"A\"\n",
    "        elif dna[i] == \"C\":\n",
    "            new_dna += \"G\"\n",
    "        elif dna[i] == \"G\":\n",
    "            new_dna += \"C\"\n",
    "        else: \n",
    "            new_dna += dna[i]\n",
    "    return new_dna\n",
    "\n",
    "test_dna = \"ATTGC\"\n",
    "\n",
    "print(DNA_strand(test_dna))"
   ]
  }
 ],
 "metadata": {
  "kernelspec": {
   "display_name": "Python 3",
   "language": "python",
   "name": "python3"
  },
  "language_info": {
   "codemirror_mode": {
    "name": "ipython",
    "version": 3
   },
   "file_extension": ".py",
   "mimetype": "text/x-python",
   "name": "python",
   "nbconvert_exporter": "python",
   "pygments_lexer": "ipython3",
   "version": "3.12.6"
  }
 },
 "nbformat": 4,
 "nbformat_minor": 2
}
